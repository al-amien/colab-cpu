{
  "nbformat": 4,
  "nbformat_minor": 0,
  "metadata": {
    "colab": {
      "name": "colab_tmate_ngrook.ipynb",
      "provenance": [],
      "collapsed_sections": []
    },
    "kernelspec": {
      "name": "python3",
      "display_name": "Python 3"
    },
    "accelerator": "GPU"
  },
  "cells": [
    {
      "cell_type": "markdown",
      "metadata": {
        "id": "44uKP2vd5u_T"
      },
      "source": [
        "# How to SSH into Google Colab ?\n",
        "Here is one line cell to wget [tmate.io](https://tmate.io/) binary, run the headless instance and print the SSH URL"
      ]
    },
    {
      "cell_type": "code",
      "source": [
        "#@title **cek GPU**\n",
        "!nvidia-smi"
      ],
      "metadata": {
        "id": "j-d8AnNB5zdn",
        "cellView": "form"
      },
      "execution_count": null,
      "outputs": []
    },
    {
      "cell_type": "code",
      "metadata": {
        "id": "sWyvGtRi5hAI",
        "cellView": "form"
      },
      "source": [
        "#@title **SSh tmate**\n",
        "!wget -nc https://github.com/tmate-io/tmate/releases/download/2.4.0/tmate-2.4.0-static-linux-i386.tar.xz &> /dev/null\n",
        "!tar --skip-old-files -xvf tmate-2.4.0-static-linux-i386.tar.xz &> /dev/null\n",
        "!rm -f nohup.out; bash -ic 'nohup ./tmate-2.4.0-static-linux-i386/tmate -S /tmp/tmate.sock new-session -d & disown -a' >/dev/null 2>&1\n",
        "!./tmate-2.4.0-static-linux-i386/tmate -S /tmp/tmate.sock wait tmate-ready\n",
        "!./tmate-2.4.0-static-linux-i386/tmate -S /tmp/tmate.sock display -p \"Connect with SSH address: #{tmate_ssh}\"\n",
        "!./tmate-2.4.0-static-linux-i386/tmate -S /tmp/tmate.sock display -p \"Connect with web: #{tmate_web}\""
      ],
      "execution_count": null,
      "outputs": []
    },
    {
      "cell_type": "code",
      "source": [
        "#@title **SSH ngrook (pass:core2duo)**\n",
        "import random, string, urllib.request, json, getpass\n",
        "\n",
        "#Generate root password\n",
        "password = 'core2duo'\n",
        "\n",
        "#Download ngrok\n",
        "! wget -q -c -nc https://bin.equinox.io/c/4VmDzA7iaHb/ngrok-stable-linux-amd64.zip\n",
        "! unzip -qq -n ngrok-stable-linux-amd64.zip\n",
        "\n",
        "#Setup sshd\n",
        "! sudo apt-get install -qq -o=Dpkg::Use-Pty=0 openssh-server pwgen > /dev/null\n",
        "\n",
        "#Set root password\n",
        "! sudo echo root:$password | chpasswd\n",
        "! sudo mkdir -p /var/run/sshd\n",
        "! sudo echo \"PermitRootLogin yes\" >> /etc/ssh/sshd_config\n",
        "! sudo echo \"PasswordAuthentication yes\" >> /etc/ssh/sshd_config\n",
        "! sudo echo \"LD_LIBRARY_PATH=/usr/lib64-nvidia\" >> /root/.bashrc\n",
        "! sudo echo \"export LD_LIBRARY_PATH\" >> /root/.bashrc\n",
        "\n",
        "#Run sshd\n",
        "get_ipython().system_raw('/usr/sbin/sshd -D &')\n",
        "\n",
        "#Ask token\n",
        "print(\"Copy authtoken from https://dashboard.ngrok.com/auth\")\n",
        "authtoken = getpass.getpass()\n",
        "#24xlz0vR1V2ss8w4mfebIZTn05T_7rFrNRenqUcQK3taEscDm\n",
        "#Create tunnel\n",
        "get_ipython().system_raw('./ngrok authtoken $authtoken && ./ngrok tcp 22 &')\n",
        "\n",
        "#Get public address and print connect command\n",
        "with urllib.request.urlopen('http://localhost:4040/api/tunnels') as response:\n",
        "  data = json.loads(response.read().decode())\n",
        "  (host, port) = data['tunnels'][0]['public_url'][6:].split(':')\n",
        "  print(f'SSH command: ssh -p{port} root@{host}')\n",
        "\n",
        "#Print root password\n",
        "print(f'Root password: {password}')\n",
        "#while True:pass"
      ],
      "metadata": {
        "cellView": "form",
        "id": "8p7fBHB7ksZs"
      },
      "execution_count": null,
      "outputs": []
    },
    {
      "cell_type": "code",
      "metadata": {
        "id": "-VV5QNsl6pNk",
        "cellView": "form"
      },
      "source": [
        "#@title **no sleep**\n",
        "#!sleep 999999999\n",
        "while True:pass"
      ],
      "execution_count": null,
      "outputs": []
    },
    {
      "cell_type": "code",
      "source": [
        "#@title **nosleep1**\n",
        "var startClickConnect = function startClickConnect(){ \n",
        "var clickConnect = function clickConnect(){ \n",
        "console.log(\"Connnect Clicked - Start\"); document.querySelector(\"#top-toolbar > colab-connect-button\").shadowRoot.querySelector(\"#connect\").click(); console.log(\"Connnect Clicked - End\"); }; \n",
        "var intervalId = setInterval(clickConnect, 60000); \n",
        "var stopClickConnectHandler = function stopClickConnect() { \n",
        "console.log(\"Connnect Clicked Stopped - Start\"); clearInterval(intervalId); console.log(\"Connnect Clicked Stopped - End\"); }; \n",
        "return stopClickConnectHandler; }; \n",
        "var stopClickConnect = startClickConnect();\n",
        "#@title **nosleep2**\n",
        "function ConnectButton(){ \n",
        "console.log(\"Connect pushed\"); \n",
        "document.querySelector(\"#top-toolbar > colab-connect-button\").shadowRoot.querySelector(\"#connect\").click() } \n",
        "setInterval(ConnectButton,60000);"
      ],
      "metadata": {
        "id": "X1ZtUj_rYmdy"
      },
      "execution_count": null,
      "outputs": []
    }
  ]
}